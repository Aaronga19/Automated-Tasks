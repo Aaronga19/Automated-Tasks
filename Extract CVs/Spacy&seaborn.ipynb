{
 "cells": [
  {
   "cell_type": "markdown",
   "metadata": {},
   "source": []
  },
  {
   "cell_type": "code",
   "execution_count": 2,
   "metadata": {},
   "outputs": [],
   "source": [
    "import spacy"
   ]
  },
  {
   "cell_type": "code",
   "execution_count": 3,
   "metadata": {},
   "outputs": [],
   "source": [
    "nlp = spacy.load('en_core_web_sm')"
   ]
  },
  {
   "cell_type": "markdown",
   "metadata": {},
   "source": [
    "# Sample Text"
   ]
  },
  {
   "cell_type": "code",
   "execution_count": 4,
   "metadata": {},
   "outputs": [
    {
     "data": {
      "text/plain": [
       "\"Google LLC is an American multinational technology company that specializes in Internet-related services and products, which include online advertising technologies, a search engine, cloud computing, software, and hardware. It is considered one of the Big Five companies in the American information technology industry, along with Amazon, Meta, Apple, and Microsoft.Google was founded on September 4, 1998, by Larry Page and Sergey Brin while they were Ph.D. students at Stanford University in California. Together they own about 14% of its publicly-listed shares and control 56% of the stockholder voting power through super-voting stock. The company went public via an initial public offering (IPO) in 2004. In 2015, Google was reorganized as a wholly-owned subsidiary of Alphabet Inc.. Google is Alphabet's largest subsidiary and is a holding company for Alphabet's Internet properties and interests. Sundar Pichai was appointed CEO of Google on October 24, 2015, replacing Larry Page, who became the CEO of Alphabet. On December 3, 2019, Pichai also became the CEO of Alphabet. \""
      ]
     },
     "execution_count": 4,
     "metadata": {},
     "output_type": "execute_result"
    }
   ],
   "source": [
    "# Process whole documents\n",
    "text = (\"Google LLC is an American multinational technology company that specializes in Internet-related services and products, which include online advertising technologies, a search engine, cloud computing, software, and hardware. It is considered one of the Big Five companies in the American information technology industry, along with Amazon, Meta, Apple, and Microsoft.Google was founded on September 4, 1998, by Larry Page and Sergey Brin while they were Ph.D. students at Stanford University in California. Together they own about 14% of its publicly-listed shares and control 56% of the stockholder voting power through super-voting stock. The company went public via an initial public offering (IPO) in 2004. In 2015, Google was reorganized as a wholly-owned subsidiary of Alphabet Inc.. Google is Alphabet's largest subsidiary and is a holding company for Alphabet's Internet properties and interests. Sundar Pichai was appointed CEO of Google on October 24, 2015, replacing Larry Page, who became the CEO of Alphabet. On December 3, 2019, Pichai also became the CEO of Alphabet. \")\n",
    "text"
   ]
  },
  {
   "cell_type": "markdown",
   "metadata": {},
   "source": [
    "## NLP work"
   ]
  },
  {
   "cell_type": "code",
   "execution_count": 6,
   "metadata": {},
   "outputs": [],
   "source": [
    "doc = nlp(text)"
   ]
  },
  {
   "cell_type": "code",
   "execution_count": 7,
   "metadata": {},
   "outputs": [
    {
     "data": {
      "text/plain": [
       "Google LLC is an American multinational technology company that specializes in Internet-related services and products, which include online advertising technologies, a search engine, cloud computing, software, and hardware. It is considered one of the Big Five companies in the American information technology industry, along with Amazon, Meta, Apple, and Microsoft.Google was founded on September 4, 1998, by Larry Page and Sergey Brin while they were Ph.D. students at Stanford University in California. Together they own about 14% of its publicly-listed shares and control 56% of the stockholder voting power through super-voting stock. The company went public via an initial public offering (IPO) in 2004. In 2015, Google was reorganized as a wholly-owned subsidiary of Alphabet Inc.. Google is Alphabet's largest subsidiary and is a holding company for Alphabet's Internet properties and interests. Sundar Pichai was appointed CEO of Google on October 24, 2015, replacing Larry Page, who became the CEO of Alphabet. On December 3, 2019, Pichai also became the CEO of Alphabet. "
      ]
     },
     "execution_count": 7,
     "metadata": {},
     "output_type": "execute_result"
    }
   ],
   "source": [
    "doc"
   ]
  },
  {
   "cell_type": "markdown",
   "metadata": {},
   "source": [
    "## Tokenization"
   ]
  },
  {
   "cell_type": "code",
   "execution_count": 8,
   "metadata": {},
   "outputs": [
    {
     "name": "stdout",
     "output_type": "stream",
     "text": [
      "Google\n",
      "LLC\n",
      "is\n",
      "an\n",
      "American\n",
      "multinational\n",
      "technology\n",
      "company\n",
      "that\n",
      "specializes\n",
      "in\n",
      "Internet\n",
      "-\n",
      "related\n",
      "services\n",
      "and\n",
      "products\n",
      ",\n",
      "which\n",
      "include\n",
      "online\n",
      "advertising\n",
      "technologies\n",
      ",\n",
      "a\n",
      "search\n",
      "engine\n",
      ",\n",
      "cloud\n",
      "computing\n",
      ",\n",
      "software\n",
      ",\n",
      "and\n",
      "hardware\n",
      ".\n",
      "It\n",
      "is\n",
      "considered\n",
      "one\n",
      "of\n",
      "the\n",
      "Big\n",
      "Five\n",
      "companies\n",
      "in\n",
      "the\n",
      "American\n",
      "information\n",
      "technology\n",
      "industry\n",
      ",\n",
      "along\n",
      "with\n",
      "Amazon\n",
      ",\n",
      "Meta\n",
      ",\n",
      "Apple\n",
      ",\n",
      "and\n",
      "Microsoft\n",
      ".\n",
      "Google\n",
      "was\n",
      "founded\n",
      "on\n",
      "September\n",
      "4\n",
      ",\n",
      "1998\n",
      ",\n",
      "by\n",
      "Larry\n",
      "Page\n",
      "and\n",
      "Sergey\n",
      "Brin\n",
      "while\n",
      "they\n",
      "were\n",
      "Ph.D.\n",
      "students\n",
      "at\n",
      "Stanford\n",
      "University\n",
      "in\n",
      "California\n",
      ".\n",
      "Together\n",
      "they\n",
      "own\n",
      "about\n",
      "14\n",
      "%\n",
      "of\n",
      "its\n",
      "publicly\n",
      "-\n",
      "listed\n",
      "shares\n",
      "and\n",
      "control\n",
      "56\n",
      "%\n",
      "of\n",
      "the\n",
      "stockholder\n",
      "voting\n",
      "power\n",
      "through\n",
      "super\n",
      "-\n",
      "voting\n",
      "stock\n",
      ".\n",
      "The\n",
      "company\n",
      "went\n",
      "public\n",
      "via\n",
      "an\n",
      "initial\n",
      "public\n",
      "offering\n",
      "(\n",
      "IPO\n",
      ")\n",
      "in\n",
      "2004\n",
      ".\n",
      "In\n",
      "2015\n",
      ",\n",
      "Google\n",
      "was\n",
      "reorganized\n",
      "as\n",
      "a\n",
      "wholly\n",
      "-\n",
      "owned\n",
      "subsidiary\n",
      "of\n",
      "Alphabet\n",
      "Inc\n",
      "..\n",
      "Google\n",
      "is\n",
      "Alphabet\n",
      "'s\n",
      "largest\n",
      "subsidiary\n",
      "and\n",
      "is\n",
      "a\n",
      "holding\n",
      "company\n",
      "for\n",
      "Alphabet\n",
      "'s\n",
      "Internet\n",
      "properties\n",
      "and\n",
      "interests\n",
      ".\n",
      "Sundar\n",
      "Pichai\n",
      "was\n",
      "appointed\n",
      "CEO\n",
      "of\n",
      "Google\n",
      "on\n",
      "October\n",
      "24\n",
      ",\n",
      "2015\n",
      ",\n",
      "replacing\n",
      "Larry\n",
      "Page\n",
      ",\n",
      "who\n",
      "became\n",
      "the\n",
      "CEO\n",
      "of\n",
      "Alphabet\n",
      ".\n",
      "On\n",
      "December\n",
      "3\n",
      ",\n",
      "2019\n",
      ",\n",
      "Pichai\n",
      "also\n",
      "became\n",
      "the\n",
      "CEO\n",
      "of\n",
      "Alphabet\n",
      ".\n"
     ]
    }
   ],
   "source": [
    "for token in doc:\n",
    "    print(token)"
   ]
  },
  {
   "cell_type": "markdown",
   "metadata": {},
   "source": [
    "### Only Noun"
   ]
  },
  {
   "cell_type": "code",
   "execution_count": 11,
   "metadata": {},
   "outputs": [
    {
     "name": "stdout",
     "output_type": "stream",
     "text": [
      "technology\n",
      "company\n",
      "Internet\n",
      "services\n",
      "products\n",
      "advertising\n",
      "technologies\n",
      "search\n",
      "engine\n",
      "cloud\n",
      "computing\n",
      "software\n",
      "hardware\n",
      "companies\n",
      "information\n",
      "technology\n",
      "industry\n",
      "Ph.D.\n",
      "students\n",
      "%\n",
      "shares\n",
      "control\n",
      "%\n",
      "stockholder\n",
      "power\n",
      "stock\n",
      "company\n",
      "offering\n",
      "subsidiary\n",
      "subsidiary\n",
      "company\n",
      "Internet\n",
      "properties\n",
      "interests\n",
      "CEO\n",
      "CEO\n",
      "CEO\n"
     ]
    }
   ],
   "source": [
    "for token in doc:\n",
    "    if token.pos_ == 'NOUN':\n",
    "        print(token)"
   ]
  },
  {
   "cell_type": "code",
   "execution_count": 12,
   "metadata": {},
   "outputs": [
    {
     "name": "stdout",
     "output_type": "stream",
     "text": [
      "American\n",
      "multinational\n",
      "online\n",
      "American\n",
      "-\n",
      "voting\n",
      "public\n",
      "initial\n",
      "public\n",
      "largest\n"
     ]
    }
   ],
   "source": [
    "for token in doc:\n",
    "    if token.pos_ == 'ADJ':\n",
    "        print(token)"
   ]
  },
  {
   "cell_type": "markdown",
   "metadata": {},
   "source": [
    "## For entity recognition"
   ]
  },
  {
   "cell_type": "code",
   "execution_count": 16,
   "metadata": {},
   "outputs": [
    {
     "name": "stdout",
     "output_type": "stream",
     "text": [
      "American NORP\n",
      "Big Five ORG\n",
      "American NORP\n",
      "Amazon ORG\n",
      "Meta ORG\n",
      "Apple ORG\n",
      "Microsoft ORG\n",
      "September 4, 1998 DATE\n",
      "Larry Page PERSON\n",
      "Sergey Brin PERSON\n",
      "Ph.D. WORK_OF_ART\n",
      "Stanford University ORG\n",
      "California GPE\n",
      "about 14% PERCENT\n",
      "56% PERCENT\n",
      "2004 DATE\n",
      "2015 DATE\n",
      "Google ORG\n",
      "Alphabet Inc.. ORG\n",
      "Alphabet PERSON\n",
      "Alphabet PERSON\n",
      "Sundar Pichai PERSON\n",
      "Google ORG\n",
      "October 24, 2015 DATE\n",
      "Larry Page PERSON\n",
      "Alphabet GPE\n",
      "December 3, 2019 DATE\n",
      "Pichai GPE\n",
      "Alphabet GPE\n"
     ]
    }
   ],
   "source": [
    "for entity in doc.ents:\n",
    "    print(entity.text, entity.label_)"
   ]
  },
  {
   "cell_type": "code",
   "execution_count": null,
   "metadata": {},
   "outputs": [],
   "source": []
  }
 ],
 "metadata": {
  "interpreter": {
   "hash": "414d410ae0fea3395504c083138a37c91515fddbd15bb99b3cc8cd284ba86752"
  },
  "kernelspec": {
   "display_name": "Python 3.7.9 64-bit ('Automate': venv)",
   "name": "python3"
  },
  "language_info": {
   "codemirror_mode": {
    "name": "ipython",
    "version": 3
   },
   "file_extension": ".py",
   "mimetype": "text/x-python",
   "name": "python",
   "nbconvert_exporter": "python",
   "pygments_lexer": "ipython3",
   "version": "3.7.9"
  },
  "orig_nbformat": 4
 },
 "nbformat": 4,
 "nbformat_minor": 2
}
